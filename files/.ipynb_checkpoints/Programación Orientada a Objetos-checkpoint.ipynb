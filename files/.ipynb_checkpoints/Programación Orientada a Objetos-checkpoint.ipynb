{
 "cells": [
  {
   "cell_type": "markdown",
   "metadata": {},
   "source": [
    "# Programación Orientada a Objetos"
   ]
  },
  {
   "cell_type": "code",
   "execution_count": 24,
   "metadata": {},
   "outputs": [],
   "source": [
    "import numpy as np"
   ]
  },
  {
   "cell_type": "code",
   "execution_count": 1,
   "metadata": {},
   "outputs": [],
   "source": [
    "def saludar(nombre,edad):\n",
    "    print(f'¡Buenos días {nombre}, gran año para tener {edad} años!')"
   ]
  },
  {
   "cell_type": "code",
   "execution_count": 2,
   "metadata": {},
   "outputs": [
    {
     "name": "stdout",
     "output_type": "stream",
     "text": [
      "¡Buenos días Jonatan, gran año para tener 24 años!\n"
     ]
    }
   ],
   "source": [
    "saludar('Jonatan',24)"
   ]
  },
  {
   "cell_type": "markdown",
   "metadata": {},
   "source": [
    "### Clases"
   ]
  },
  {
   "cell_type": "markdown",
   "metadata": {},
   "source": [
    "#### Modelación de un Gato\n",
    "\n",
    "Propiedades de un gato:\n",
    "1. Nombre\n",
    "2. Edad\n",
    "3. Peso\n",
    "4. Estatura\n",
    "5. Color\n",
    "6. Raza"
   ]
  },
  {
   "cell_type": "code",
   "execution_count": 6,
   "metadata": {},
   "outputs": [],
   "source": [
    "class CAT:\n",
    "    \n",
    "    def __init__(self,nombre,edad,peso,estatura,color,raza):\n",
    "        \n",
    "        self.nombre = nombre\n",
    "        self.edad = edad\n",
    "        self.peso = peso\n",
    "        self.estatura = estatura\n",
    "        self.color = color\n",
    "        self.raza = raza\n",
    "    \n",
    "    def purr(self):\n",
    "        print('purrrrrrrrrrr.....')"
   ]
  },
  {
   "cell_type": "code",
   "execution_count": 8,
   "metadata": {},
   "outputs": [],
   "source": [
    "#inicializar la clase\n",
    "gato1 = CAT('Mishi',4,3,50,'blanco','siames')"
   ]
  },
  {
   "cell_type": "code",
   "execution_count": 13,
   "metadata": {},
   "outputs": [
    {
     "data": {
      "text/plain": [
       "50"
      ]
     },
     "execution_count": 13,
     "metadata": {},
     "output_type": "execute_result"
    }
   ],
   "source": [
    "gato1.estatura"
   ]
  },
  {
   "cell_type": "markdown",
   "metadata": {},
   "source": [
    "### Videojuego de Naruto"
   ]
  },
  {
   "cell_type": "markdown",
   "metadata": {},
   "source": [
    "Propiedades de un Ninja\n",
    "\n",
    "1. Nombre\n",
    "2. Barra de Vida \n",
    "3. Ataques especiales \n",
    "\n",
    "Acciones de un Ninja\n",
    "\n",
    "1. Presentarse\n",
    "2. Atacar\n",
    "3. Recibir un ataque"
   ]
  },
  {
   "cell_type": "code",
   "execution_count": 89,
   "metadata": {},
   "outputs": [],
   "source": [
    "class Ninja:\n",
    "    \n",
    "    def __init__(self,nombre,aldea,vida,ataques):\n",
    "        \n",
    "        self.nombre = nombre\n",
    "        self.aldea = aldea\n",
    "        self.vida = vida\n",
    "        self.ataques = ataques\n",
    "        \n",
    "    def presentacion(self):\n",
    "        print(f'Mi nombre es {self.nombre}, ninja de la aldea de la {self.aldea}')\n",
    "        \n",
    "    def atacar(self):\n",
    "        llave = np.random.choice(list(self.ataques.keys()))\n",
    "        jutsu = self.ataques[llave]\n",
    "        ataque = np.random.normal(jutsu[0],jutsu[1])\n",
    "        print(f'{self.nombre} realiza el jutsu {llave} - daño: {ataque} PDV')\n",
    "        return ataque\n",
    "        \n",
    "    def recibir_ataque(self,ataque):\n",
    "        self.vida = self.vida - ataque"
   ]
  },
  {
   "cell_type": "markdown",
   "metadata": {},
   "source": [
    "#### Inicialización de las Clases"
   ]
  },
  {
   "cell_type": "code",
   "execution_count": 99,
   "metadata": {},
   "outputs": [],
   "source": [
    "ataques_naruto = {\n",
    "    'rasengan': [30,5],\n",
    "    'rasenshuriken': [40,2],\n",
    "    'despertar': [100,10]\n",
    "}\n",
    "\n",
    "ataques_gaara = {\n",
    "    'arena': [10,5],\n",
    "    'ataud de arena': [30,10]\n",
    "}"
   ]
  },
  {
   "cell_type": "code",
   "execution_count": 100,
   "metadata": {},
   "outputs": [],
   "source": [
    "ninja1 = Ninja('Naruto','Hoja',100,ataques_naruto)\n",
    "ninja2 = Ninja('Gaara','Arena',150,ataques_gaara)"
   ]
  },
  {
   "cell_type": "markdown",
   "metadata": {},
   "source": [
    "#### VideoJuego"
   ]
  },
  {
   "cell_type": "code",
   "execution_count": 101,
   "metadata": {},
   "outputs": [
    {
     "name": "stdout",
     "output_type": "stream",
     "text": [
      "SE ENFRENTAN EN COMBATE:\n",
      "Mi nombre es Naruto, ninja de la aldea de la Hoja\n",
      "Mi nombre es Gaara, ninja de la aldea de la Arena\n",
      "\n",
      "\n",
      "Naruto realiza el jutsu rasengan - daño: 31.263417491234957 PDV\n",
      "Gaara realiza el jutsu ataud de arena - daño: 32.76865215115756 PDV\n",
      "Naruto realiza el jutsu rasenshuriken - daño: 38.155568177294164 PDV\n",
      "Gaara realiza el jutsu ataud de arena - daño: 24.063498707997788 PDV\n",
      "Naruto realiza el jutsu rasenshuriken - daño: 40.51764429004743 PDV\n",
      "Gaara realiza el jutsu arena - daño: 10.903024935069924 PDV\n",
      "Naruto realiza el jutsu rasenshuriken - daño: 44.26767498971323 PDV\n",
      "Gaara realiza el jutsu ataud de arena - daño: 29.745154471521325 PDV\n",
      "\n",
      "\n",
      "Gaara ha muerto! - Naruto es ganador con 2.519669734253398 PDV restantes\n"
     ]
    }
   ],
   "source": [
    "#anuncio de batalla\n",
    "print(f'SE ENFRENTAN EN COMBATE:')\n",
    "ninja1.presentacion()\n",
    "ninja2.presentacion()\n",
    "print('\\n')\n",
    "\n",
    "#pelea\n",
    "while ninja1.vida > 0 and ninja2.vida > 0:\n",
    "    #ataca ninja 1\n",
    "    ninja2.recibir_ataque(ninja1.atacar())\n",
    "    if ninja2.vida <= 0:\n",
    "        pass\n",
    "    #ataca ninja 2\n",
    "    ninja1.recibir_ataque(ninja2.atacar())\n",
    "\n",
    "#resultado\n",
    "print('\\n')\n",
    "if ninja1.vida <= 0:\n",
    "    print(f'{ninja1.nombre} ha muerto! - {ninja2.nombre} es ganador con {ninja2.vida} PDV restantes')\n",
    "elif ninja2.vida <= 0:\n",
    "    print(f'{ninja2.nombre} ha muerto! - {ninja1.nombre} es ganador con {ninja1.vida} PDV restantes')"
   ]
  }
 ],
 "metadata": {
  "kernelspec": {
   "display_name": "Python 3",
   "language": "python",
   "name": "python3"
  },
  "language_info": {
   "codemirror_mode": {
    "name": "ipython",
    "version": 3
   },
   "file_extension": ".py",
   "mimetype": "text/x-python",
   "name": "python",
   "nbconvert_exporter": "python",
   "pygments_lexer": "ipython3",
   "version": "3.8.5"
  }
 },
 "nbformat": 4,
 "nbformat_minor": 4
}
